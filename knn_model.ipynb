{
  "cells": [
    {
      "cell_type": "code",
      "execution_count": 42,
      "metadata": {
        "id": "w0BoUKB4ONYQ"
      },
      "outputs": [],
      "source": [
        "# Imports\n",
        "import pandas as pd\n",
        "import numpy as np\n",
        "from sklearn.preprocessing import Normalizer\n",
        "from sklearn.model_selection import train_test_split\n",
        "from sklearn.neighbors import NearestNeighbors\n",
        "import pickle\n",
        "import matplotlib.pyplot as plt\n",
        "%matplotlib inline\n",
        "\n",
        "import warnings\n",
        "warnings.filterwarnings('ignore')"
      ]
    },
    {
      "cell_type": "code",
      "execution_count": 43,
      "metadata": {
        "id": "ZSoI28cdPAI9"
      },
      "outputs": [
        {
          "data": {
            "text/html": [
              "<div>\n",
              "<style scoped>\n",
              "    .dataframe tbody tr th:only-of-type {\n",
              "        vertical-align: middle;\n",
              "    }\n",
              "\n",
              "    .dataframe tbody tr th {\n",
              "        vertical-align: top;\n",
              "    }\n",
              "\n",
              "    .dataframe thead th {\n",
              "        text-align: right;\n",
              "    }\n",
              "</style>\n",
              "<table border=\"1\" class=\"dataframe\">\n",
              "  <thead>\n",
              "    <tr style=\"text-align: right;\">\n",
              "      <th></th>\n",
              "      <th>danceability</th>\n",
              "      <th>energy</th>\n",
              "      <th>key</th>\n",
              "      <th>loudness</th>\n",
              "      <th>mode</th>\n",
              "      <th>speechiness</th>\n",
              "      <th>acousticness</th>\n",
              "      <th>instrumentalness</th>\n",
              "      <th>liveness</th>\n",
              "      <th>valence</th>\n",
              "      <th>...</th>\n",
              "      <th>id</th>\n",
              "      <th>uri</th>\n",
              "      <th>track_href</th>\n",
              "      <th>analysis_url</th>\n",
              "      <th>duration_ms</th>\n",
              "      <th>time_signature</th>\n",
              "      <th>genre</th>\n",
              "      <th>song_name</th>\n",
              "      <th>Unnamed: 0</th>\n",
              "      <th>title</th>\n",
              "    </tr>\n",
              "  </thead>\n",
              "  <tbody>\n",
              "    <tr>\n",
              "      <th>0</th>\n",
              "      <td>0.831</td>\n",
              "      <td>0.814</td>\n",
              "      <td>2</td>\n",
              "      <td>-7.364</td>\n",
              "      <td>1</td>\n",
              "      <td>0.4200</td>\n",
              "      <td>0.059800</td>\n",
              "      <td>0.013400</td>\n",
              "      <td>0.0556</td>\n",
              "      <td>0.3890</td>\n",
              "      <td>...</td>\n",
              "      <td>2Vc6NJ9PW9gD9q343XFRKx</td>\n",
              "      <td>spotify:track:2Vc6NJ9PW9gD9q343XFRKx</td>\n",
              "      <td>https://api.spotify.com/v1/tracks/2Vc6NJ9PW9gD...</td>\n",
              "      <td>https://api.spotify.com/v1/audio-analysis/2Vc6...</td>\n",
              "      <td>124539</td>\n",
              "      <td>4</td>\n",
              "      <td>Dark Trap</td>\n",
              "      <td>Mercury: Retrograde</td>\n",
              "      <td>NaN</td>\n",
              "      <td>NaN</td>\n",
              "    </tr>\n",
              "    <tr>\n",
              "      <th>1</th>\n",
              "      <td>0.719</td>\n",
              "      <td>0.493</td>\n",
              "      <td>8</td>\n",
              "      <td>-7.230</td>\n",
              "      <td>1</td>\n",
              "      <td>0.0794</td>\n",
              "      <td>0.401000</td>\n",
              "      <td>0.000000</td>\n",
              "      <td>0.1180</td>\n",
              "      <td>0.1240</td>\n",
              "      <td>...</td>\n",
              "      <td>7pgJBLVz5VmnL7uGHmRj6p</td>\n",
              "      <td>spotify:track:7pgJBLVz5VmnL7uGHmRj6p</td>\n",
              "      <td>https://api.spotify.com/v1/tracks/7pgJBLVz5Vmn...</td>\n",
              "      <td>https://api.spotify.com/v1/audio-analysis/7pgJ...</td>\n",
              "      <td>224427</td>\n",
              "      <td>4</td>\n",
              "      <td>Dark Trap</td>\n",
              "      <td>Pathology</td>\n",
              "      <td>NaN</td>\n",
              "      <td>NaN</td>\n",
              "    </tr>\n",
              "    <tr>\n",
              "      <th>2</th>\n",
              "      <td>0.850</td>\n",
              "      <td>0.893</td>\n",
              "      <td>5</td>\n",
              "      <td>-4.783</td>\n",
              "      <td>1</td>\n",
              "      <td>0.0623</td>\n",
              "      <td>0.013800</td>\n",
              "      <td>0.000004</td>\n",
              "      <td>0.3720</td>\n",
              "      <td>0.0391</td>\n",
              "      <td>...</td>\n",
              "      <td>0vSWgAlfpye0WCGeNmuNhy</td>\n",
              "      <td>spotify:track:0vSWgAlfpye0WCGeNmuNhy</td>\n",
              "      <td>https://api.spotify.com/v1/tracks/0vSWgAlfpye0...</td>\n",
              "      <td>https://api.spotify.com/v1/audio-analysis/0vSW...</td>\n",
              "      <td>98821</td>\n",
              "      <td>4</td>\n",
              "      <td>Dark Trap</td>\n",
              "      <td>Symbiote</td>\n",
              "      <td>NaN</td>\n",
              "      <td>NaN</td>\n",
              "    </tr>\n",
              "    <tr>\n",
              "      <th>3</th>\n",
              "      <td>0.476</td>\n",
              "      <td>0.781</td>\n",
              "      <td>0</td>\n",
              "      <td>-4.710</td>\n",
              "      <td>1</td>\n",
              "      <td>0.1030</td>\n",
              "      <td>0.023700</td>\n",
              "      <td>0.000000</td>\n",
              "      <td>0.1140</td>\n",
              "      <td>0.1750</td>\n",
              "      <td>...</td>\n",
              "      <td>0VSXnJqQkwuH2ei1nOQ1nu</td>\n",
              "      <td>spotify:track:0VSXnJqQkwuH2ei1nOQ1nu</td>\n",
              "      <td>https://api.spotify.com/v1/tracks/0VSXnJqQkwuH...</td>\n",
              "      <td>https://api.spotify.com/v1/audio-analysis/0VSX...</td>\n",
              "      <td>123661</td>\n",
              "      <td>3</td>\n",
              "      <td>Dark Trap</td>\n",
              "      <td>ProductOfDrugs (Prod. The Virus and Antidote)</td>\n",
              "      <td>NaN</td>\n",
              "      <td>NaN</td>\n",
              "    </tr>\n",
              "    <tr>\n",
              "      <th>4</th>\n",
              "      <td>0.798</td>\n",
              "      <td>0.624</td>\n",
              "      <td>2</td>\n",
              "      <td>-7.668</td>\n",
              "      <td>1</td>\n",
              "      <td>0.2930</td>\n",
              "      <td>0.217000</td>\n",
              "      <td>0.000000</td>\n",
              "      <td>0.1660</td>\n",
              "      <td>0.5910</td>\n",
              "      <td>...</td>\n",
              "      <td>4jCeguq9rMTlbMmPHuO7S3</td>\n",
              "      <td>spotify:track:4jCeguq9rMTlbMmPHuO7S3</td>\n",
              "      <td>https://api.spotify.com/v1/tracks/4jCeguq9rMTl...</td>\n",
              "      <td>https://api.spotify.com/v1/audio-analysis/4jCe...</td>\n",
              "      <td>123298</td>\n",
              "      <td>4</td>\n",
              "      <td>Dark Trap</td>\n",
              "      <td>Venom</td>\n",
              "      <td>NaN</td>\n",
              "      <td>NaN</td>\n",
              "    </tr>\n",
              "    <tr>\n",
              "      <th>...</th>\n",
              "      <td>...</td>\n",
              "      <td>...</td>\n",
              "      <td>...</td>\n",
              "      <td>...</td>\n",
              "      <td>...</td>\n",
              "      <td>...</td>\n",
              "      <td>...</td>\n",
              "      <td>...</td>\n",
              "      <td>...</td>\n",
              "      <td>...</td>\n",
              "      <td>...</td>\n",
              "      <td>...</td>\n",
              "      <td>...</td>\n",
              "      <td>...</td>\n",
              "      <td>...</td>\n",
              "      <td>...</td>\n",
              "      <td>...</td>\n",
              "      <td>...</td>\n",
              "      <td>...</td>\n",
              "      <td>...</td>\n",
              "      <td>...</td>\n",
              "    </tr>\n",
              "    <tr>\n",
              "      <th>42300</th>\n",
              "      <td>0.528</td>\n",
              "      <td>0.693</td>\n",
              "      <td>4</td>\n",
              "      <td>-5.148</td>\n",
              "      <td>1</td>\n",
              "      <td>0.0304</td>\n",
              "      <td>0.031500</td>\n",
              "      <td>0.000345</td>\n",
              "      <td>0.1210</td>\n",
              "      <td>0.3940</td>\n",
              "      <td>...</td>\n",
              "      <td>46bXU7Sgj7104ZoXxzz9tM</td>\n",
              "      <td>spotify:track:46bXU7Sgj7104ZoXxzz9tM</td>\n",
              "      <td>https://api.spotify.com/v1/tracks/46bXU7Sgj710...</td>\n",
              "      <td>https://api.spotify.com/v1/audio-analysis/46bX...</td>\n",
              "      <td>269208</td>\n",
              "      <td>4</td>\n",
              "      <td>hardstyle</td>\n",
              "      <td>NaN</td>\n",
              "      <td>20995.0</td>\n",
              "      <td>Euphoric Hardstyle</td>\n",
              "    </tr>\n",
              "    <tr>\n",
              "      <th>42301</th>\n",
              "      <td>0.517</td>\n",
              "      <td>0.768</td>\n",
              "      <td>0</td>\n",
              "      <td>-7.922</td>\n",
              "      <td>0</td>\n",
              "      <td>0.0479</td>\n",
              "      <td>0.022500</td>\n",
              "      <td>0.000018</td>\n",
              "      <td>0.2050</td>\n",
              "      <td>0.3830</td>\n",
              "      <td>...</td>\n",
              "      <td>0he2ViGMUO3ajKTxLOfWVT</td>\n",
              "      <td>spotify:track:0he2ViGMUO3ajKTxLOfWVT</td>\n",
              "      <td>https://api.spotify.com/v1/tracks/0he2ViGMUO3a...</td>\n",
              "      <td>https://api.spotify.com/v1/audio-analysis/0he2...</td>\n",
              "      <td>210112</td>\n",
              "      <td>4</td>\n",
              "      <td>hardstyle</td>\n",
              "      <td>NaN</td>\n",
              "      <td>20996.0</td>\n",
              "      <td>Greatest Hardstyle Playlist</td>\n",
              "    </tr>\n",
              "    <tr>\n",
              "      <th>42302</th>\n",
              "      <td>0.361</td>\n",
              "      <td>0.821</td>\n",
              "      <td>8</td>\n",
              "      <td>-3.102</td>\n",
              "      <td>1</td>\n",
              "      <td>0.0505</td>\n",
              "      <td>0.026000</td>\n",
              "      <td>0.000242</td>\n",
              "      <td>0.3850</td>\n",
              "      <td>0.1240</td>\n",
              "      <td>...</td>\n",
              "      <td>72DAt9Lbpy9EUS29OzQLob</td>\n",
              "      <td>spotify:track:72DAt9Lbpy9EUS29OzQLob</td>\n",
              "      <td>https://api.spotify.com/v1/tracks/72DAt9Lbpy9E...</td>\n",
              "      <td>https://api.spotify.com/v1/audio-analysis/72DA...</td>\n",
              "      <td>234823</td>\n",
              "      <td>4</td>\n",
              "      <td>hardstyle</td>\n",
              "      <td>NaN</td>\n",
              "      <td>20997.0</td>\n",
              "      <td>Best of Hardstyle 2020</td>\n",
              "    </tr>\n",
              "    <tr>\n",
              "      <th>42303</th>\n",
              "      <td>0.477</td>\n",
              "      <td>0.921</td>\n",
              "      <td>6</td>\n",
              "      <td>-4.777</td>\n",
              "      <td>0</td>\n",
              "      <td>0.0392</td>\n",
              "      <td>0.000551</td>\n",
              "      <td>0.029600</td>\n",
              "      <td>0.0575</td>\n",
              "      <td>0.4880</td>\n",
              "      <td>...</td>\n",
              "      <td>6HXgExFVuE1c3cq9QjFCcU</td>\n",
              "      <td>spotify:track:6HXgExFVuE1c3cq9QjFCcU</td>\n",
              "      <td>https://api.spotify.com/v1/tracks/6HXgExFVuE1c...</td>\n",
              "      <td>https://api.spotify.com/v1/audio-analysis/6HXg...</td>\n",
              "      <td>323200</td>\n",
              "      <td>4</td>\n",
              "      <td>hardstyle</td>\n",
              "      <td>NaN</td>\n",
              "      <td>20998.0</td>\n",
              "      <td>Euphoric Hardstyle</td>\n",
              "    </tr>\n",
              "    <tr>\n",
              "      <th>42304</th>\n",
              "      <td>0.529</td>\n",
              "      <td>0.945</td>\n",
              "      <td>9</td>\n",
              "      <td>-5.862</td>\n",
              "      <td>1</td>\n",
              "      <td>0.0615</td>\n",
              "      <td>0.001890</td>\n",
              "      <td>0.000055</td>\n",
              "      <td>0.4140</td>\n",
              "      <td>0.1340</td>\n",
              "      <td>...</td>\n",
              "      <td>6MAAMZImxcvYhRnxDLTufD</td>\n",
              "      <td>spotify:track:6MAAMZImxcvYhRnxDLTufD</td>\n",
              "      <td>https://api.spotify.com/v1/tracks/6MAAMZImxcvY...</td>\n",
              "      <td>https://api.spotify.com/v1/audio-analysis/6MAA...</td>\n",
              "      <td>162161</td>\n",
              "      <td>4</td>\n",
              "      <td>hardstyle</td>\n",
              "      <td>NaN</td>\n",
              "      <td>20999.0</td>\n",
              "      <td>Best of Hardstyle 2020</td>\n",
              "    </tr>\n",
              "  </tbody>\n",
              "</table>\n",
              "<p>42305 rows × 22 columns</p>\n",
              "</div>"
            ],
            "text/plain": [
              "       danceability  energy  key  loudness  mode  speechiness  acousticness  \\\n",
              "0             0.831   0.814    2    -7.364     1       0.4200      0.059800   \n",
              "1             0.719   0.493    8    -7.230     1       0.0794      0.401000   \n",
              "2             0.850   0.893    5    -4.783     1       0.0623      0.013800   \n",
              "3             0.476   0.781    0    -4.710     1       0.1030      0.023700   \n",
              "4             0.798   0.624    2    -7.668     1       0.2930      0.217000   \n",
              "...             ...     ...  ...       ...   ...          ...           ...   \n",
              "42300         0.528   0.693    4    -5.148     1       0.0304      0.031500   \n",
              "42301         0.517   0.768    0    -7.922     0       0.0479      0.022500   \n",
              "42302         0.361   0.821    8    -3.102     1       0.0505      0.026000   \n",
              "42303         0.477   0.921    6    -4.777     0       0.0392      0.000551   \n",
              "42304         0.529   0.945    9    -5.862     1       0.0615      0.001890   \n",
              "\n",
              "       instrumentalness  liveness  valence  ...                      id  \\\n",
              "0              0.013400    0.0556   0.3890  ...  2Vc6NJ9PW9gD9q343XFRKx   \n",
              "1              0.000000    0.1180   0.1240  ...  7pgJBLVz5VmnL7uGHmRj6p   \n",
              "2              0.000004    0.3720   0.0391  ...  0vSWgAlfpye0WCGeNmuNhy   \n",
              "3              0.000000    0.1140   0.1750  ...  0VSXnJqQkwuH2ei1nOQ1nu   \n",
              "4              0.000000    0.1660   0.5910  ...  4jCeguq9rMTlbMmPHuO7S3   \n",
              "...                 ...       ...      ...  ...                     ...   \n",
              "42300          0.000345    0.1210   0.3940  ...  46bXU7Sgj7104ZoXxzz9tM   \n",
              "42301          0.000018    0.2050   0.3830  ...  0he2ViGMUO3ajKTxLOfWVT   \n",
              "42302          0.000242    0.3850   0.1240  ...  72DAt9Lbpy9EUS29OzQLob   \n",
              "42303          0.029600    0.0575   0.4880  ...  6HXgExFVuE1c3cq9QjFCcU   \n",
              "42304          0.000055    0.4140   0.1340  ...  6MAAMZImxcvYhRnxDLTufD   \n",
              "\n",
              "                                        uri  \\\n",
              "0      spotify:track:2Vc6NJ9PW9gD9q343XFRKx   \n",
              "1      spotify:track:7pgJBLVz5VmnL7uGHmRj6p   \n",
              "2      spotify:track:0vSWgAlfpye0WCGeNmuNhy   \n",
              "3      spotify:track:0VSXnJqQkwuH2ei1nOQ1nu   \n",
              "4      spotify:track:4jCeguq9rMTlbMmPHuO7S3   \n",
              "...                                     ...   \n",
              "42300  spotify:track:46bXU7Sgj7104ZoXxzz9tM   \n",
              "42301  spotify:track:0he2ViGMUO3ajKTxLOfWVT   \n",
              "42302  spotify:track:72DAt9Lbpy9EUS29OzQLob   \n",
              "42303  spotify:track:6HXgExFVuE1c3cq9QjFCcU   \n",
              "42304  spotify:track:6MAAMZImxcvYhRnxDLTufD   \n",
              "\n",
              "                                              track_href  \\\n",
              "0      https://api.spotify.com/v1/tracks/2Vc6NJ9PW9gD...   \n",
              "1      https://api.spotify.com/v1/tracks/7pgJBLVz5Vmn...   \n",
              "2      https://api.spotify.com/v1/tracks/0vSWgAlfpye0...   \n",
              "3      https://api.spotify.com/v1/tracks/0VSXnJqQkwuH...   \n",
              "4      https://api.spotify.com/v1/tracks/4jCeguq9rMTl...   \n",
              "...                                                  ...   \n",
              "42300  https://api.spotify.com/v1/tracks/46bXU7Sgj710...   \n",
              "42301  https://api.spotify.com/v1/tracks/0he2ViGMUO3a...   \n",
              "42302  https://api.spotify.com/v1/tracks/72DAt9Lbpy9E...   \n",
              "42303  https://api.spotify.com/v1/tracks/6HXgExFVuE1c...   \n",
              "42304  https://api.spotify.com/v1/tracks/6MAAMZImxcvY...   \n",
              "\n",
              "                                            analysis_url duration_ms  \\\n",
              "0      https://api.spotify.com/v1/audio-analysis/2Vc6...      124539   \n",
              "1      https://api.spotify.com/v1/audio-analysis/7pgJ...      224427   \n",
              "2      https://api.spotify.com/v1/audio-analysis/0vSW...       98821   \n",
              "3      https://api.spotify.com/v1/audio-analysis/0VSX...      123661   \n",
              "4      https://api.spotify.com/v1/audio-analysis/4jCe...      123298   \n",
              "...                                                  ...         ...   \n",
              "42300  https://api.spotify.com/v1/audio-analysis/46bX...      269208   \n",
              "42301  https://api.spotify.com/v1/audio-analysis/0he2...      210112   \n",
              "42302  https://api.spotify.com/v1/audio-analysis/72DA...      234823   \n",
              "42303  https://api.spotify.com/v1/audio-analysis/6HXg...      323200   \n",
              "42304  https://api.spotify.com/v1/audio-analysis/6MAA...      162161   \n",
              "\n",
              "      time_signature      genre  \\\n",
              "0                  4  Dark Trap   \n",
              "1                  4  Dark Trap   \n",
              "2                  4  Dark Trap   \n",
              "3                  3  Dark Trap   \n",
              "4                  4  Dark Trap   \n",
              "...              ...        ...   \n",
              "42300              4  hardstyle   \n",
              "42301              4  hardstyle   \n",
              "42302              4  hardstyle   \n",
              "42303              4  hardstyle   \n",
              "42304              4  hardstyle   \n",
              "\n",
              "                                           song_name Unnamed: 0  \\\n",
              "0                                Mercury: Retrograde        NaN   \n",
              "1                                          Pathology        NaN   \n",
              "2                                           Symbiote        NaN   \n",
              "3      ProductOfDrugs (Prod. The Virus and Antidote)        NaN   \n",
              "4                                              Venom        NaN   \n",
              "...                                              ...        ...   \n",
              "42300                                            NaN    20995.0   \n",
              "42301                                            NaN    20996.0   \n",
              "42302                                            NaN    20997.0   \n",
              "42303                                            NaN    20998.0   \n",
              "42304                                            NaN    20999.0   \n",
              "\n",
              "                             title  \n",
              "0                              NaN  \n",
              "1                              NaN  \n",
              "2                              NaN  \n",
              "3                              NaN  \n",
              "4                              NaN  \n",
              "...                            ...  \n",
              "42300           Euphoric Hardstyle  \n",
              "42301  Greatest Hardstyle Playlist  \n",
              "42302       Best of Hardstyle 2020  \n",
              "42303           Euphoric Hardstyle  \n",
              "42304       Best of Hardstyle 2020  \n",
              "\n",
              "[42305 rows x 22 columns]"
            ]
          },
          "execution_count": 43,
          "metadata": {},
          "output_type": "execute_result"
        }
      ],
      "source": [
        "# Reading in the data and removing the \n",
        "df = pd.read_csv('genres_v2.csv')\n",
        "df"
      ]
    },
    {
      "cell_type": "code",
      "execution_count": 44,
      "metadata": {},
      "outputs": [],
      "source": [
        "def wrangle(df):\n",
        "    # drop columns not in use by nearest-neighbors \n",
        "    df.drop(columns=['type', 'id', 'track_href', 'analysis_url', 'title', 'Unnamed: 0'], inplace=True)\n",
        "    \n",
        "    # drop unuseful audio features\n",
        "    df.drop(columns=['instrumentalness', 'time_signature'], inplace=True)\n",
        "    \n",
        "    # drop genre, might not work well with nearest-neighbors and does not appear in spotify api request\n",
        "    df.drop(columns=['genre'], inplace=True)\n",
        "    \n",
        "    # making a pool of songs to use as query items\n",
        "    test_df = df[df['song_name'].isna() == True]\n",
        "    # dropping rows without song_names, maybe we can keep them if we implement the api calls\n",
        "    df = df[df['song_name'].isna() == False]\n",
        "    # drop song-name, not used in nearest-neighbors\n",
        "    df.drop(columns=['song_name'], inplace=True)\n",
        "    test_df.drop(columns=['song_name'], inplace=True)\n",
        "    \n",
        "    \n",
        "    return df"
      ]
    },
    {
      "cell_type": "code",
      "execution_count": 45,
      "metadata": {
        "colab": {
          "base_uri": "https://localhost:8080/",
          "height": 439
        },
        "id": "DwQeylxpsrMh",
        "outputId": "75c22cef-31a8-42d0-a783-43d8048b8cdd"
      },
      "outputs": [],
      "source": [
        "q_df = wrangle(df)\n"
      ]
    },
    {
      "cell_type": "code",
      "execution_count": 47,
      "metadata": {},
      "outputs": [],
      "source": [
        "uq_df = q_df.drop(columns='uri')"
      ]
    },
    {
      "cell_type": "code",
      "execution_count": 54,
      "metadata": {},
      "outputs": [
        {
          "data": {
            "text/html": [
              "<div>\n",
              "<style scoped>\n",
              "    .dataframe tbody tr th:only-of-type {\n",
              "        vertical-align: middle;\n",
              "    }\n",
              "\n",
              "    .dataframe tbody tr th {\n",
              "        vertical-align: top;\n",
              "    }\n",
              "\n",
              "    .dataframe thead th {\n",
              "        text-align: right;\n",
              "    }\n",
              "</style>\n",
              "<table border=\"1\" class=\"dataframe\">\n",
              "  <thead>\n",
              "    <tr style=\"text-align: right;\">\n",
              "      <th></th>\n",
              "      <th>danceability</th>\n",
              "      <th>energy</th>\n",
              "      <th>loudness</th>\n",
              "      <th>speechiness</th>\n",
              "      <th>acousticness</th>\n",
              "      <th>liveness</th>\n",
              "      <th>valence</th>\n",
              "      <th>tempo</th>\n",
              "      <th>duration_ms</th>\n",
              "    </tr>\n",
              "  </thead>\n",
              "  <tbody>\n",
              "    <tr>\n",
              "      <th>0</th>\n",
              "      <td>0.831</td>\n",
              "      <td>0.814</td>\n",
              "      <td>-7.364</td>\n",
              "      <td>0.4200</td>\n",
              "      <td>0.05980</td>\n",
              "      <td>0.0556</td>\n",
              "      <td>0.3890</td>\n",
              "      <td>156.985</td>\n",
              "      <td>124539</td>\n",
              "    </tr>\n",
              "    <tr>\n",
              "      <th>1</th>\n",
              "      <td>0.719</td>\n",
              "      <td>0.493</td>\n",
              "      <td>-7.230</td>\n",
              "      <td>0.0794</td>\n",
              "      <td>0.40100</td>\n",
              "      <td>0.1180</td>\n",
              "      <td>0.1240</td>\n",
              "      <td>115.080</td>\n",
              "      <td>224427</td>\n",
              "    </tr>\n",
              "    <tr>\n",
              "      <th>2</th>\n",
              "      <td>0.850</td>\n",
              "      <td>0.893</td>\n",
              "      <td>-4.783</td>\n",
              "      <td>0.0623</td>\n",
              "      <td>0.01380</td>\n",
              "      <td>0.3720</td>\n",
              "      <td>0.0391</td>\n",
              "      <td>218.050</td>\n",
              "      <td>98821</td>\n",
              "    </tr>\n",
              "    <tr>\n",
              "      <th>3</th>\n",
              "      <td>0.476</td>\n",
              "      <td>0.781</td>\n",
              "      <td>-4.710</td>\n",
              "      <td>0.1030</td>\n",
              "      <td>0.02370</td>\n",
              "      <td>0.1140</td>\n",
              "      <td>0.1750</td>\n",
              "      <td>186.948</td>\n",
              "      <td>123661</td>\n",
              "    </tr>\n",
              "    <tr>\n",
              "      <th>4</th>\n",
              "      <td>0.798</td>\n",
              "      <td>0.624</td>\n",
              "      <td>-7.668</td>\n",
              "      <td>0.2930</td>\n",
              "      <td>0.21700</td>\n",
              "      <td>0.1660</td>\n",
              "      <td>0.5910</td>\n",
              "      <td>147.988</td>\n",
              "      <td>123298</td>\n",
              "    </tr>\n",
              "    <tr>\n",
              "      <th>...</th>\n",
              "      <td>...</td>\n",
              "      <td>...</td>\n",
              "      <td>...</td>\n",
              "      <td>...</td>\n",
              "      <td>...</td>\n",
              "      <td>...</td>\n",
              "      <td>...</td>\n",
              "      <td>...</td>\n",
              "      <td>...</td>\n",
              "    </tr>\n",
              "    <tr>\n",
              "      <th>21520</th>\n",
              "      <td>0.538</td>\n",
              "      <td>0.819</td>\n",
              "      <td>-6.780</td>\n",
              "      <td>0.4670</td>\n",
              "      <td>0.00854</td>\n",
              "      <td>0.1310</td>\n",
              "      <td>0.2520</td>\n",
              "      <td>160.299</td>\n",
              "      <td>209582</td>\n",
              "    </tr>\n",
              "    <tr>\n",
              "      <th>21521</th>\n",
              "      <td>0.415</td>\n",
              "      <td>0.548</td>\n",
              "      <td>-8.563</td>\n",
              "      <td>0.2850</td>\n",
              "      <td>0.22400</td>\n",
              "      <td>0.1220</td>\n",
              "      <td>0.5280</td>\n",
              "      <td>154.272</td>\n",
              "      <td>213898</td>\n",
              "    </tr>\n",
              "    <tr>\n",
              "      <th>21522</th>\n",
              "      <td>0.785</td>\n",
              "      <td>0.648</td>\n",
              "      <td>-6.907</td>\n",
              "      <td>0.2790</td>\n",
              "      <td>0.01570</td>\n",
              "      <td>0.1000</td>\n",
              "      <td>0.5060</td>\n",
              "      <td>184.160</td>\n",
              "      <td>271867</td>\n",
              "    </tr>\n",
              "    <tr>\n",
              "      <th>21523</th>\n",
              "      <td>0.747</td>\n",
              "      <td>0.832</td>\n",
              "      <td>-5.737</td>\n",
              "      <td>0.1850</td>\n",
              "      <td>0.23300</td>\n",
              "      <td>0.1300</td>\n",
              "      <td>0.7330</td>\n",
              "      <td>188.760</td>\n",
              "      <td>182040</td>\n",
              "    </tr>\n",
              "    <tr>\n",
              "      <th>21524</th>\n",
              "      <td>0.816</td>\n",
              "      <td>0.775</td>\n",
              "      <td>-3.323</td>\n",
              "      <td>0.2340</td>\n",
              "      <td>0.16000</td>\n",
              "      <td>0.0543</td>\n",
              "      <td>0.5270</td>\n",
              "      <td>186.862</td>\n",
              "      <td>270587</td>\n",
              "    </tr>\n",
              "  </tbody>\n",
              "</table>\n",
              "<p>21519 rows × 9 columns</p>\n",
              "</div>"
            ],
            "text/plain": [
              "       danceability  energy  loudness  speechiness  acousticness  liveness  \\\n",
              "0             0.831   0.814    -7.364       0.4200       0.05980    0.0556   \n",
              "1             0.719   0.493    -7.230       0.0794       0.40100    0.1180   \n",
              "2             0.850   0.893    -4.783       0.0623       0.01380    0.3720   \n",
              "3             0.476   0.781    -4.710       0.1030       0.02370    0.1140   \n",
              "4             0.798   0.624    -7.668       0.2930       0.21700    0.1660   \n",
              "...             ...     ...       ...          ...           ...       ...   \n",
              "21520         0.538   0.819    -6.780       0.4670       0.00854    0.1310   \n",
              "21521         0.415   0.548    -8.563       0.2850       0.22400    0.1220   \n",
              "21522         0.785   0.648    -6.907       0.2790       0.01570    0.1000   \n",
              "21523         0.747   0.832    -5.737       0.1850       0.23300    0.1300   \n",
              "21524         0.816   0.775    -3.323       0.2340       0.16000    0.0543   \n",
              "\n",
              "       valence    tempo  duration_ms  \n",
              "0       0.3890  156.985       124539  \n",
              "1       0.1240  115.080       224427  \n",
              "2       0.0391  218.050        98821  \n",
              "3       0.1750  186.948       123661  \n",
              "4       0.5910  147.988       123298  \n",
              "...        ...      ...          ...  \n",
              "21520   0.2520  160.299       209582  \n",
              "21521   0.5280  154.272       213898  \n",
              "21522   0.5060  184.160       271867  \n",
              "21523   0.7330  188.760       182040  \n",
              "21524   0.5270  186.862       270587  \n",
              "\n",
              "[21519 rows x 9 columns]"
            ]
          },
          "execution_count": 54,
          "metadata": {},
          "output_type": "execute_result"
        }
      ],
      "source": [
        "uq_df"
      ]
    },
    {
      "cell_type": "code",
      "execution_count": 49,
      "metadata": {},
      "outputs": [],
      "source": [
        "# standard scaler removes the mean and scales to unit variance for each feature\n",
        "scaler = Normalizer()\n",
        "scaler.fit(uq_df)\n",
        "scaled_df = scaler.transform(uq_df)"
      ]
    },
    {
      "cell_type": "code",
      "execution_count": 50,
      "metadata": {},
      "outputs": [
        {
          "data": {
            "text/plain": [
              "NearestNeighbors()"
            ]
          },
          "execution_count": 50,
          "metadata": {},
          "output_type": "execute_result"
        }
      ],
      "source": [
        "# Instantiate nearest-neighbors estimator, n_neighbors is Number of neighbors to use by default for kneighbors queries.\n",
        "nn = NearestNeighbors(n_neighbors=5)\n",
        "# fit to our song's audio features\n",
        "nn.fit(scaled_df)"
      ]
    },
    {
      "cell_type": "code",
      "execution_count": 52,
      "metadata": {},
      "outputs": [],
      "source": [
        "pickle.dump(nn, open('nn.pkl', 'wb'))"
      ]
    },
    {
      "cell_type": "code",
      "execution_count": 53,
      "metadata": {},
      "outputs": [],
      "source": [
        "pickle.dump(scaler, open('norm.pkl', 'wb'))"
      ]
    },
    {
      "cell_type": "code",
      "execution_count": null,
      "metadata": {
        "id": "B7BGxLq8eSpu"
      },
      "outputs": [],
      "source": [
        "y = df['target']\n",
        "X = df.drop(columns='target')"
      ]
    },
    {
      "cell_type": "code",
      "execution_count": null,
      "metadata": {
        "colab": {
          "base_uri": "https://localhost:8080/"
        },
        "id": "nSq4NANxsAnH",
        "outputId": "f4673f25-c7d4-46e6-a66b-65a15658a1bd"
      },
      "outputs": [
        {
          "name": "stdout",
          "output_type": "stream",
          "text": [
            "total 224K\n",
            "-rw-r--r-- 1 root root 218K Oct 20 23:02 data.csv\n",
            "drwxr-xr-x 1 root root 4.0K Oct  8 13:45 sample_data\n"
          ]
        }
      ],
      "source": [
        "!ls -lh"
      ]
    },
    {
      "cell_type": "code",
      "execution_count": null,
      "metadata": {
        "colab": {
          "base_uri": "https://localhost:8080/"
        },
        "id": "NGgqLmMesZB3",
        "outputId": "74982917-335e-41b2-c1a1-0a9f86e64700"
      },
      "outputs": [
        {
          "name": "stdout",
          "output_type": "stream",
          "text": [
            "<class 'pandas.core.frame.DataFrame'>\n",
            "RangeIndex: 2017 entries, 0 to 2016\n",
            "Data columns (total 13 columns):\n",
            " #   Column            Non-Null Count  Dtype  \n",
            "---  ------            --------------  -----  \n",
            " 0   acousticness      2017 non-null   float64\n",
            " 1   danceability      2017 non-null   float64\n",
            " 2   duration_ms       2017 non-null   int64  \n",
            " 3   energy            2017 non-null   float64\n",
            " 4   instrumentalness  2017 non-null   float64\n",
            " 5   key               2017 non-null   int64  \n",
            " 6   liveness          2017 non-null   float64\n",
            " 7   loudness          2017 non-null   float64\n",
            " 8   mode              2017 non-null   int64  \n",
            " 9   speechiness       2017 non-null   float64\n",
            " 10  tempo             2017 non-null   float64\n",
            " 11  time_signature    2017 non-null   float64\n",
            " 12  valence           2017 non-null   float64\n",
            "dtypes: float64(10), int64(3)\n",
            "memory usage: 205.0 KB\n"
          ]
        }
      ],
      "source": [
        "X.info()"
      ]
    },
    {
      "cell_type": "code",
      "execution_count": null,
      "metadata": {
        "id": "MhlXADAe4KF-"
      },
      "outputs": [],
      "source": [
        "# We are going to scale our data to improve the model's ability to see relationships\n",
        "\n",
        "# Instantiate and fit_transform using our scalar model\n",
        "scaler = MinMaxScaler()\n",
        "X_scaled = scaler.fit_transform(X)"
      ]
    },
    {
      "cell_type": "code",
      "execution_count": null,
      "metadata": {
        "colab": {
          "base_uri": "https://localhost:8080/"
        },
        "id": "t8M-svuB2trm",
        "outputId": "66fd810b-007d-45e4-96a3-c5699ac065e8"
      },
      "outputs": [
        {
          "data": {
            "text/plain": [
              "1    1020\n",
              "0     997\n",
              "Name: target, dtype: int64"
            ]
          },
          "execution_count": 10,
          "metadata": {},
          "output_type": "execute_result"
        }
      ],
      "source": [
        "# Our target values are pretty balanced\n",
        "y.value_counts()"
      ]
    },
    {
      "cell_type": "code",
      "execution_count": null,
      "metadata": {
        "id": "_mAXmLnqf32_"
      },
      "outputs": [],
      "source": [
        "# We're going to split the data into our train and val sets\n",
        "X_train, X_val, y_train, y_val = train_test_split(X_scaled, y, test_size=.2, random_state=42)"
      ]
    },
    {
      "cell_type": "code",
      "execution_count": null,
      "metadata": {
        "colab": {
          "base_uri": "https://localhost:8080/"
        },
        "id": "NITJighn3L5F",
        "outputId": "b63f40db-ae7b-4be2-8abe-e119cd95f0b0"
      },
      "outputs": [
        {
          "data": {
            "text/plain": [
              "array([2.92623951e-04, 8.17865429e-01, 3.40182180e-01, 4.54841334e-01,\n",
              "       5.56352459e-01, 7.27272727e-01, 7.34582193e-02, 6.83867033e-01,\n",
              "       1.00000000e+00, 4.94387691e-02, 4.44008351e-01, 7.50000000e-01,\n",
              "       3.19891350e-01])"
            ]
          },
          "execution_count": 12,
          "metadata": {},
          "output_type": "execute_result"
        }
      ],
      "source": [
        "X_train[0]"
      ]
    },
    {
      "cell_type": "code",
      "execution_count": null,
      "metadata": {
        "colab": {
          "base_uri": "https://localhost:8080/"
        },
        "id": "xwjvaz2Dri0I",
        "outputId": "493159cc-873c-4079-a5c5-a7efbc9f9aff"
      },
      "outputs": [
        {
          "data": {
            "text/plain": [
              "(1613, 13)"
            ]
          },
          "execution_count": 13,
          "metadata": {},
          "output_type": "execute_result"
        }
      ],
      "source": [
        "X_train.shape"
      ]
    },
    {
      "cell_type": "code",
      "execution_count": null,
      "metadata": {
        "colab": {
          "base_uri": "https://localhost:8080/"
        },
        "id": "O1FYpyVQz_Tw",
        "outputId": "ac1cb7b5-79ca-4aac-e96a-ec53a3a352e4"
      },
      "outputs": [
        {
          "data": {
            "text/plain": [
              "numpy.ndarray"
            ]
          },
          "execution_count": 14,
          "metadata": {},
          "output_type": "execute_result"
        }
      ],
      "source": [
        "type(X_train)"
      ]
    },
    {
      "cell_type": "code",
      "execution_count": null,
      "metadata": {
        "id": "LXkQDHw6mZXt"
      },
      "outputs": [],
      "source": [
        "## Build a perceptron with keras \n",
        "# The perceptron can't get to 100% accuracy because it can only fit linear boundaries between classes\n",
        "\n",
        "# instantiate a sequential model\n",
        "model = Sequential()\n",
        "\n",
        "\n",
        "# add a dense layer\n",
        "# with some layer-specific hyperparameters\n",
        "\n",
        "model.add(Dense(13,                     # 1 neuron in the hidden layer\n",
        "                input_dim=13,          # input_dim is the only place where we say anything about the input layer\n",
        "                activation='relu')) # selecting our activation function\n",
        "\n",
        "model.add(Dense(93, activation='relu'))\n",
        "\n",
        "model.add(Dense(54, activation='relu'))\n",
        "\n",
        "model.add(Dense(130, activation='relu'))\n",
        "\n",
        "model.add(Dense(13, activation='relu'))\n",
        "\n",
        "model.add(Dense(1, activation='sigmoid'))\n",
        "\n",
        "# compile the model \n",
        "# locks the model architecture. \n",
        "# indicate network-level hyperparameters\n",
        "model.compile(loss='binary_crossentropy', # We're doing binary classification\n",
        "             optimizer='nadam',\n",
        "             metrics=['accuracy'])"
      ]
    },
    {
      "cell_type": "code",
      "execution_count": null,
      "metadata": {
        "colab": {
          "base_uri": "https://localhost:8080/"
        },
        "id": "Z-X6R2biuisY",
        "outputId": "65305414-e946-4008-8e29-814e428fd834"
      },
      "outputs": [
        {
          "name": "stdout",
          "output_type": "stream",
          "text": [
            "Epoch 1/200\n",
            "101/101 [==============================] - 2s 2ms/step - loss: 0.6654 - accuracy: 0.5877\n",
            "Epoch 2/200\n",
            "101/101 [==============================] - 0s 2ms/step - loss: 0.6190 - accuracy: 0.6516\n",
            "Epoch 3/200\n",
            "101/101 [==============================] - 0s 2ms/step - loss: 0.6034 - accuracy: 0.6658\n",
            "Epoch 4/200\n",
            "101/101 [==============================] - 0s 2ms/step - loss: 0.5913 - accuracy: 0.6727\n",
            "Epoch 5/200\n",
            "101/101 [==============================] - 0s 2ms/step - loss: 0.5787 - accuracy: 0.6987\n",
            "Epoch 6/200\n",
            "101/101 [==============================] - 0s 2ms/step - loss: 0.5637 - accuracy: 0.7061\n",
            "Epoch 7/200\n",
            "101/101 [==============================] - 0s 2ms/step - loss: 0.5575 - accuracy: 0.7006\n",
            "Epoch 8/200\n",
            "101/101 [==============================] - 0s 2ms/step - loss: 0.5452 - accuracy: 0.7111\n",
            "Epoch 9/200\n",
            "101/101 [==============================] - 0s 2ms/step - loss: 0.5392 - accuracy: 0.7241\n",
            "Epoch 10/200\n",
            "101/101 [==============================] - 0s 2ms/step - loss: 0.5296 - accuracy: 0.7297\n",
            "Epoch 11/200\n",
            "101/101 [==============================] - 0s 2ms/step - loss: 0.5266 - accuracy: 0.7334\n",
            "Epoch 12/200\n",
            "101/101 [==============================] - 0s 2ms/step - loss: 0.5219 - accuracy: 0.7272\n",
            "Epoch 13/200\n",
            "101/101 [==============================] - 0s 2ms/step - loss: 0.5115 - accuracy: 0.7378\n",
            "Epoch 14/200\n",
            "101/101 [==============================] - 0s 2ms/step - loss: 0.5154 - accuracy: 0.7347\n",
            "Epoch 15/200\n",
            "101/101 [==============================] - 0s 2ms/step - loss: 0.5051 - accuracy: 0.7539\n",
            "Epoch 16/200\n",
            "101/101 [==============================] - 0s 2ms/step - loss: 0.5016 - accuracy: 0.7520\n",
            "Epoch 17/200\n",
            "101/101 [==============================] - 0s 2ms/step - loss: 0.5000 - accuracy: 0.7514\n",
            "Epoch 18/200\n",
            "101/101 [==============================] - 0s 2ms/step - loss: 0.4960 - accuracy: 0.7495\n",
            "Epoch 19/200\n",
            "101/101 [==============================] - 0s 2ms/step - loss: 0.4821 - accuracy: 0.7644\n",
            "Epoch 20/200\n",
            "101/101 [==============================] - 0s 2ms/step - loss: 0.4889 - accuracy: 0.7477\n",
            "Epoch 21/200\n",
            "101/101 [==============================] - 0s 2ms/step - loss: 0.4766 - accuracy: 0.7681\n",
            "Epoch 22/200\n",
            "101/101 [==============================] - 0s 2ms/step - loss: 0.4738 - accuracy: 0.7694\n",
            "Epoch 23/200\n",
            "101/101 [==============================] - 0s 2ms/step - loss: 0.4710 - accuracy: 0.7700\n",
            "Epoch 24/200\n",
            "101/101 [==============================] - 0s 2ms/step - loss: 0.4671 - accuracy: 0.7768\n",
            "Epoch 25/200\n",
            "101/101 [==============================] - 0s 2ms/step - loss: 0.4637 - accuracy: 0.7688\n",
            "Epoch 26/200\n",
            "101/101 [==============================] - 0s 2ms/step - loss: 0.4601 - accuracy: 0.7774\n",
            "Epoch 27/200\n",
            "101/101 [==============================] - 0s 2ms/step - loss: 0.4606 - accuracy: 0.7818\n",
            "Epoch 28/200\n",
            "101/101 [==============================] - 0s 2ms/step - loss: 0.4494 - accuracy: 0.7768\n",
            "Epoch 29/200\n",
            "101/101 [==============================] - 0s 2ms/step - loss: 0.4517 - accuracy: 0.7855\n",
            "Epoch 30/200\n",
            "101/101 [==============================] - 0s 2ms/step - loss: 0.4496 - accuracy: 0.7929\n",
            "Epoch 31/200\n",
            "101/101 [==============================] - 0s 2ms/step - loss: 0.4376 - accuracy: 0.7886\n",
            "Epoch 32/200\n",
            "101/101 [==============================] - 0s 2ms/step - loss: 0.4427 - accuracy: 0.7849\n",
            "Epoch 33/200\n",
            "101/101 [==============================] - 0s 2ms/step - loss: 0.4366 - accuracy: 0.7874\n",
            "Epoch 34/200\n",
            "101/101 [==============================] - 0s 2ms/step - loss: 0.4309 - accuracy: 0.7979\n",
            "Epoch 35/200\n",
            "101/101 [==============================] - 0s 2ms/step - loss: 0.4261 - accuracy: 0.7960\n",
            "Epoch 36/200\n",
            "101/101 [==============================] - 0s 2ms/step - loss: 0.4263 - accuracy: 0.8022\n",
            "Epoch 37/200\n",
            "101/101 [==============================] - 0s 2ms/step - loss: 0.4227 - accuracy: 0.8072\n",
            "Epoch 38/200\n",
            "101/101 [==============================] - 0s 2ms/step - loss: 0.4229 - accuracy: 0.8010\n",
            "Epoch 39/200\n",
            "101/101 [==============================] - 0s 2ms/step - loss: 0.4144 - accuracy: 0.8053\n",
            "Epoch 40/200\n",
            "101/101 [==============================] - 0s 2ms/step - loss: 0.4131 - accuracy: 0.8072\n",
            "Epoch 41/200\n",
            "101/101 [==============================] - 0s 2ms/step - loss: 0.4059 - accuracy: 0.8091\n",
            "Epoch 42/200\n",
            "101/101 [==============================] - 0s 2ms/step - loss: 0.4043 - accuracy: 0.8159\n",
            "Epoch 43/200\n",
            "101/101 [==============================] - 0s 2ms/step - loss: 0.4038 - accuracy: 0.8035\n",
            "Epoch 44/200\n",
            "101/101 [==============================] - 0s 2ms/step - loss: 0.3998 - accuracy: 0.8171\n",
            "Epoch 45/200\n",
            "101/101 [==============================] - 0s 2ms/step - loss: 0.4012 - accuracy: 0.8115\n",
            "Epoch 46/200\n",
            "101/101 [==============================] - 0s 2ms/step - loss: 0.3899 - accuracy: 0.8165\n",
            "Epoch 47/200\n",
            "101/101 [==============================] - 0s 2ms/step - loss: 0.3881 - accuracy: 0.8184\n",
            "Epoch 48/200\n",
            "101/101 [==============================] - 0s 2ms/step - loss: 0.3877 - accuracy: 0.8252\n",
            "Epoch 49/200\n",
            "101/101 [==============================] - 0s 2ms/step - loss: 0.3850 - accuracy: 0.8221\n",
            "Epoch 50/200\n",
            "101/101 [==============================] - 0s 2ms/step - loss: 0.3899 - accuracy: 0.8215\n",
            "Epoch 51/200\n",
            "101/101 [==============================] - 0s 2ms/step - loss: 0.3846 - accuracy: 0.8314\n",
            "Epoch 52/200\n",
            "101/101 [==============================] - 0s 2ms/step - loss: 0.3778 - accuracy: 0.8289\n",
            "Epoch 53/200\n",
            "101/101 [==============================] - 0s 2ms/step - loss: 0.3757 - accuracy: 0.8388\n",
            "Epoch 54/200\n",
            "101/101 [==============================] - 0s 2ms/step - loss: 0.3888 - accuracy: 0.8109\n",
            "Epoch 55/200\n",
            "101/101 [==============================] - 0s 2ms/step - loss: 0.3717 - accuracy: 0.8277\n",
            "Epoch 56/200\n",
            "101/101 [==============================] - 0s 2ms/step - loss: 0.3643 - accuracy: 0.8357\n",
            "Epoch 57/200\n",
            "101/101 [==============================] - 0s 2ms/step - loss: 0.3566 - accuracy: 0.8382\n",
            "Epoch 58/200\n",
            "101/101 [==============================] - 0s 2ms/step - loss: 0.3597 - accuracy: 0.8270\n",
            "Epoch 59/200\n",
            "101/101 [==============================] - 0s 2ms/step - loss: 0.3555 - accuracy: 0.8388\n",
            "Epoch 60/200\n",
            "101/101 [==============================] - 0s 2ms/step - loss: 0.3560 - accuracy: 0.8320\n",
            "Epoch 61/200\n",
            "101/101 [==============================] - 0s 2ms/step - loss: 0.3575 - accuracy: 0.8369\n",
            "Epoch 62/200\n",
            "101/101 [==============================] - 0s 2ms/step - loss: 0.3534 - accuracy: 0.8413\n",
            "Epoch 63/200\n",
            "101/101 [==============================] - 0s 2ms/step - loss: 0.3659 - accuracy: 0.8357\n",
            "Epoch 64/200\n",
            "101/101 [==============================] - 0s 2ms/step - loss: 0.3425 - accuracy: 0.8363\n",
            "Epoch 65/200\n",
            "101/101 [==============================] - 0s 2ms/step - loss: 0.3452 - accuracy: 0.8438\n",
            "Epoch 66/200\n",
            "101/101 [==============================] - 0s 2ms/step - loss: 0.3323 - accuracy: 0.8506\n",
            "Epoch 67/200\n",
            "101/101 [==============================] - 0s 2ms/step - loss: 0.3301 - accuracy: 0.8531\n",
            "Epoch 68/200\n",
            "101/101 [==============================] - 0s 2ms/step - loss: 0.3332 - accuracy: 0.8500\n",
            "Epoch 69/200\n",
            "101/101 [==============================] - 0s 2ms/step - loss: 0.3193 - accuracy: 0.8586\n",
            "Epoch 70/200\n",
            "101/101 [==============================] - 0s 2ms/step - loss: 0.3250 - accuracy: 0.8518\n",
            "Epoch 71/200\n",
            "101/101 [==============================] - 0s 2ms/step - loss: 0.3246 - accuracy: 0.8487\n",
            "Epoch 72/200\n",
            "101/101 [==============================] - 0s 2ms/step - loss: 0.3111 - accuracy: 0.8593\n",
            "Epoch 73/200\n",
            "101/101 [==============================] - 0s 2ms/step - loss: 0.3158 - accuracy: 0.8531\n",
            "Epoch 74/200\n",
            "101/101 [==============================] - 0s 2ms/step - loss: 0.3039 - accuracy: 0.8648\n",
            "Epoch 75/200\n",
            "101/101 [==============================] - 0s 2ms/step - loss: 0.3158 - accuracy: 0.8611\n",
            "Epoch 76/200\n",
            "101/101 [==============================] - 0s 2ms/step - loss: 0.3415 - accuracy: 0.8431\n",
            "Epoch 77/200\n",
            "101/101 [==============================] - 0s 2ms/step - loss: 0.3172 - accuracy: 0.8636\n",
            "Epoch 78/200\n",
            "101/101 [==============================] - 0s 2ms/step - loss: 0.2921 - accuracy: 0.8760\n",
            "Epoch 79/200\n",
            "101/101 [==============================] - 0s 2ms/step - loss: 0.2888 - accuracy: 0.8779\n",
            "Epoch 80/200\n",
            "101/101 [==============================] - 0s 2ms/step - loss: 0.2931 - accuracy: 0.8754\n",
            "Epoch 81/200\n",
            "101/101 [==============================] - 0s 2ms/step - loss: 0.2931 - accuracy: 0.8679\n",
            "Epoch 82/200\n",
            "101/101 [==============================] - 0s 2ms/step - loss: 0.2789 - accuracy: 0.8766\n",
            "Epoch 83/200\n",
            "101/101 [==============================] - 0s 2ms/step - loss: 0.2825 - accuracy: 0.8741\n",
            "Epoch 84/200\n",
            "101/101 [==============================] - 0s 2ms/step - loss: 0.2856 - accuracy: 0.8710\n",
            "Epoch 85/200\n",
            "101/101 [==============================] - 0s 2ms/step - loss: 0.2696 - accuracy: 0.8779\n",
            "Epoch 86/200\n",
            "101/101 [==============================] - 0s 2ms/step - loss: 0.2759 - accuracy: 0.8847\n",
            "Epoch 87/200\n",
            "101/101 [==============================] - 0s 2ms/step - loss: 0.2712 - accuracy: 0.8828\n",
            "Epoch 88/200\n",
            "101/101 [==============================] - 0s 2ms/step - loss: 0.2776 - accuracy: 0.8772\n",
            "Epoch 89/200\n",
            "101/101 [==============================] - 0s 2ms/step - loss: 0.2602 - accuracy: 0.8903\n",
            "Epoch 90/200\n",
            "101/101 [==============================] - 0s 2ms/step - loss: 0.2624 - accuracy: 0.8822\n",
            "Epoch 91/200\n",
            "101/101 [==============================] - 0s 2ms/step - loss: 0.2543 - accuracy: 0.8927\n",
            "Epoch 92/200\n",
            "101/101 [==============================] - 0s 2ms/step - loss: 0.2673 - accuracy: 0.8828\n",
            "Epoch 93/200\n",
            "101/101 [==============================] - 0s 2ms/step - loss: 0.2476 - accuracy: 0.8958\n",
            "Epoch 94/200\n",
            "101/101 [==============================] - 0s 2ms/step - loss: 0.2574 - accuracy: 0.8934\n",
            "Epoch 95/200\n",
            "101/101 [==============================] - 0s 2ms/step - loss: 0.2582 - accuracy: 0.8927\n",
            "Epoch 96/200\n",
            "101/101 [==============================] - 0s 2ms/step - loss: 0.2678 - accuracy: 0.8803\n",
            "Epoch 97/200\n",
            "101/101 [==============================] - 0s 2ms/step - loss: 0.2522 - accuracy: 0.8971\n",
            "Epoch 98/200\n",
            "101/101 [==============================] - 0s 2ms/step - loss: 0.2577 - accuracy: 0.8946\n",
            "Epoch 99/200\n",
            "101/101 [==============================] - 0s 2ms/step - loss: 0.2901 - accuracy: 0.8822\n",
            "Epoch 100/200\n",
            "101/101 [==============================] - 0s 2ms/step - loss: 0.2779 - accuracy: 0.8909\n",
            "Epoch 101/200\n",
            "101/101 [==============================] - 0s 2ms/step - loss: 0.2370 - accuracy: 0.8971\n",
            "Epoch 102/200\n",
            "101/101 [==============================] - 0s 2ms/step - loss: 0.2461 - accuracy: 0.8952\n",
            "Epoch 103/200\n",
            "101/101 [==============================] - 0s 2ms/step - loss: 0.2292 - accuracy: 0.9120\n",
            "Epoch 104/200\n",
            "101/101 [==============================] - 0s 2ms/step - loss: 0.2234 - accuracy: 0.9058\n",
            "Epoch 105/200\n",
            "101/101 [==============================] - 0s 2ms/step - loss: 0.2206 - accuracy: 0.9095\n",
            "Epoch 106/200\n",
            "101/101 [==============================] - 0s 2ms/step - loss: 0.2176 - accuracy: 0.9113\n",
            "Epoch 107/200\n",
            "101/101 [==============================] - 0s 2ms/step - loss: 0.2155 - accuracy: 0.9175\n",
            "Epoch 108/200\n",
            "101/101 [==============================] - 0s 2ms/step - loss: 0.2046 - accuracy: 0.9163\n",
            "Epoch 109/200\n",
            "101/101 [==============================] - 0s 2ms/step - loss: 0.2008 - accuracy: 0.9256\n",
            "Epoch 110/200\n",
            "101/101 [==============================] - 0s 2ms/step - loss: 0.2132 - accuracy: 0.9070\n",
            "Epoch 111/200\n",
            "101/101 [==============================] - 0s 2ms/step - loss: 0.2186 - accuracy: 0.9064\n",
            "Epoch 112/200\n",
            "101/101 [==============================] - 0s 2ms/step - loss: 0.2430 - accuracy: 0.9113\n",
            "Epoch 113/200\n",
            "101/101 [==============================] - 0s 2ms/step - loss: 0.2740 - accuracy: 0.8896\n",
            "Epoch 114/200\n",
            "101/101 [==============================] - 0s 2ms/step - loss: 0.2005 - accuracy: 0.9151\n",
            "Epoch 115/200\n",
            "101/101 [==============================] - 0s 2ms/step - loss: 0.1878 - accuracy: 0.9231\n",
            "Epoch 116/200\n",
            "101/101 [==============================] - 0s 2ms/step - loss: 0.2237 - accuracy: 0.9058\n",
            "Epoch 117/200\n",
            "101/101 [==============================] - 0s 2ms/step - loss: 0.1798 - accuracy: 0.9306\n",
            "Epoch 118/200\n",
            "101/101 [==============================] - 0s 2ms/step - loss: 0.1739 - accuracy: 0.9299\n",
            "Epoch 119/200\n",
            "101/101 [==============================] - 0s 2ms/step - loss: 0.1690 - accuracy: 0.9293\n",
            "Epoch 120/200\n",
            "101/101 [==============================] - 0s 2ms/step - loss: 0.1846 - accuracy: 0.9250\n",
            "Epoch 121/200\n",
            "101/101 [==============================] - 0s 2ms/step - loss: 0.1715 - accuracy: 0.9343\n",
            "Epoch 122/200\n",
            "101/101 [==============================] - 0s 2ms/step - loss: 0.1689 - accuracy: 0.9318\n",
            "Epoch 123/200\n",
            "101/101 [==============================] - 0s 2ms/step - loss: 0.1728 - accuracy: 0.9275\n",
            "Epoch 124/200\n",
            "101/101 [==============================] - 0s 2ms/step - loss: 0.1665 - accuracy: 0.9324\n",
            "Epoch 125/200\n",
            "101/101 [==============================] - 0s 2ms/step - loss: 0.1824 - accuracy: 0.9281\n",
            "Epoch 126/200\n",
            "101/101 [==============================] - 0s 2ms/step - loss: 0.1831 - accuracy: 0.9250\n",
            "Epoch 127/200\n",
            "101/101 [==============================] - 0s 2ms/step - loss: 0.1709 - accuracy: 0.9312\n",
            "Epoch 128/200\n",
            "101/101 [==============================] - 0s 2ms/step - loss: 0.1529 - accuracy: 0.9399\n",
            "Epoch 129/200\n",
            "101/101 [==============================] - 0s 2ms/step - loss: 0.1826 - accuracy: 0.9275\n",
            "Epoch 130/200\n",
            "101/101 [==============================] - 0s 2ms/step - loss: 0.2034 - accuracy: 0.9151\n",
            "Epoch 131/200\n",
            "101/101 [==============================] - 0s 2ms/step - loss: 0.2043 - accuracy: 0.9225\n",
            "Epoch 132/200\n",
            "101/101 [==============================] - 0s 2ms/step - loss: 0.1817 - accuracy: 0.9287\n",
            "Epoch 133/200\n",
            "101/101 [==============================] - 0s 2ms/step - loss: 0.1874 - accuracy: 0.9250\n",
            "Epoch 134/200\n",
            "101/101 [==============================] - 0s 2ms/step - loss: 0.1436 - accuracy: 0.9423\n",
            "Epoch 135/200\n",
            "101/101 [==============================] - 0s 2ms/step - loss: 0.1473 - accuracy: 0.9423\n",
            "Epoch 136/200\n",
            "101/101 [==============================] - 0s 2ms/step - loss: 0.1814 - accuracy: 0.9337\n",
            "Epoch 137/200\n",
            "101/101 [==============================] - 0s 2ms/step - loss: 0.1614 - accuracy: 0.9337\n",
            "Epoch 138/200\n",
            "101/101 [==============================] - 0s 2ms/step - loss: 0.1402 - accuracy: 0.9467\n",
            "Epoch 139/200\n",
            "101/101 [==============================] - 0s 2ms/step - loss: 0.1401 - accuracy: 0.9448\n",
            "Epoch 140/200\n",
            "101/101 [==============================] - 0s 2ms/step - loss: 0.1239 - accuracy: 0.9516\n",
            "Epoch 141/200\n",
            "101/101 [==============================] - 0s 2ms/step - loss: 0.1198 - accuracy: 0.9560\n",
            "Epoch 142/200\n",
            "101/101 [==============================] - 0s 2ms/step - loss: 0.1866 - accuracy: 0.9237\n",
            "Epoch 143/200\n",
            "101/101 [==============================] - 0s 2ms/step - loss: 0.1621 - accuracy: 0.9355\n",
            "Epoch 144/200\n",
            "101/101 [==============================] - 0s 2ms/step - loss: 0.1570 - accuracy: 0.9392\n",
            "Epoch 145/200\n",
            "101/101 [==============================] - 0s 2ms/step - loss: 0.1534 - accuracy: 0.9436\n",
            "Epoch 146/200\n",
            "101/101 [==============================] - 0s 2ms/step - loss: 0.1475 - accuracy: 0.9392\n",
            "Epoch 147/200\n",
            "101/101 [==============================] - 0s 2ms/step - loss: 0.1425 - accuracy: 0.9448\n",
            "Epoch 148/200\n",
            "101/101 [==============================] - 0s 2ms/step - loss: 0.1274 - accuracy: 0.9535\n",
            "Epoch 149/200\n",
            "101/101 [==============================] - 0s 2ms/step - loss: 0.1453 - accuracy: 0.9436\n",
            "Epoch 150/200\n",
            "101/101 [==============================] - 0s 2ms/step - loss: 0.1903 - accuracy: 0.9244\n",
            "Epoch 151/200\n",
            "101/101 [==============================] - 0s 2ms/step - loss: 0.1283 - accuracy: 0.9485\n",
            "Epoch 152/200\n",
            "101/101 [==============================] - 0s 2ms/step - loss: 0.1536 - accuracy: 0.9405\n",
            "Epoch 153/200\n",
            "101/101 [==============================] - 0s 2ms/step - loss: 0.1635 - accuracy: 0.9399\n",
            "Epoch 154/200\n",
            "101/101 [==============================] - 0s 2ms/step - loss: 0.1327 - accuracy: 0.9386\n",
            "Epoch 155/200\n",
            "101/101 [==============================] - 0s 2ms/step - loss: 0.1087 - accuracy: 0.9603\n",
            "Epoch 156/200\n",
            "101/101 [==============================] - 0s 2ms/step - loss: 0.1045 - accuracy: 0.9622\n",
            "Epoch 157/200\n",
            "101/101 [==============================] - 0s 2ms/step - loss: 0.0911 - accuracy: 0.9647\n",
            "Epoch 158/200\n",
            "101/101 [==============================] - 0s 2ms/step - loss: 0.0872 - accuracy: 0.9696\n",
            "Epoch 159/200\n",
            "101/101 [==============================] - 0s 2ms/step - loss: 0.1490 - accuracy: 0.9392\n",
            "Epoch 160/200\n",
            "101/101 [==============================] - 0s 2ms/step - loss: 0.1737 - accuracy: 0.9275\n",
            "Epoch 161/200\n",
            "101/101 [==============================] - 0s 2ms/step - loss: 0.1082 - accuracy: 0.9566\n",
            "Epoch 162/200\n",
            "101/101 [==============================] - 0s 2ms/step - loss: 0.0914 - accuracy: 0.9659\n",
            "Epoch 163/200\n",
            "101/101 [==============================] - 0s 2ms/step - loss: 0.1172 - accuracy: 0.9541\n",
            "Epoch 164/200\n",
            "101/101 [==============================] - 0s 2ms/step - loss: 0.1419 - accuracy: 0.9467\n",
            "Epoch 165/200\n",
            "101/101 [==============================] - 0s 2ms/step - loss: 0.1308 - accuracy: 0.9467\n",
            "Epoch 166/200\n",
            "101/101 [==============================] - 0s 2ms/step - loss: 0.1096 - accuracy: 0.9566\n",
            "Epoch 167/200\n",
            "101/101 [==============================] - 0s 2ms/step - loss: 0.0854 - accuracy: 0.9684\n",
            "Epoch 168/200\n",
            "101/101 [==============================] - 0s 2ms/step - loss: 0.1467 - accuracy: 0.9423\n",
            "Epoch 169/200\n",
            "101/101 [==============================] - 0s 2ms/step - loss: 0.1443 - accuracy: 0.9386\n",
            "Epoch 170/200\n",
            "101/101 [==============================] - 0s 2ms/step - loss: 0.1593 - accuracy: 0.9461\n",
            "Epoch 171/200\n",
            "101/101 [==============================] - 0s 2ms/step - loss: 0.1153 - accuracy: 0.9572\n",
            "Epoch 172/200\n",
            "101/101 [==============================] - 0s 2ms/step - loss: 0.1255 - accuracy: 0.9535\n",
            "Epoch 173/200\n",
            "101/101 [==============================] - 0s 2ms/step - loss: 0.0998 - accuracy: 0.9572\n",
            "Epoch 174/200\n",
            "101/101 [==============================] - 0s 2ms/step - loss: 0.1100 - accuracy: 0.9566\n",
            "Epoch 175/200\n",
            "101/101 [==============================] - 0s 2ms/step - loss: 0.0838 - accuracy: 0.9653\n",
            "Epoch 176/200\n",
            "101/101 [==============================] - 0s 2ms/step - loss: 0.0749 - accuracy: 0.9727\n",
            "Epoch 177/200\n",
            "101/101 [==============================] - 0s 2ms/step - loss: 0.0618 - accuracy: 0.9771\n",
            "Epoch 178/200\n",
            "101/101 [==============================] - 0s 2ms/step - loss: 0.0739 - accuracy: 0.9746\n",
            "Epoch 179/200\n",
            "101/101 [==============================] - 0s 2ms/step - loss: 0.1593 - accuracy: 0.9454\n",
            "Epoch 180/200\n",
            "101/101 [==============================] - 0s 2ms/step - loss: 0.1707 - accuracy: 0.9299\n",
            "Epoch 181/200\n",
            "101/101 [==============================] - 0s 2ms/step - loss: 0.0942 - accuracy: 0.9653\n",
            "Epoch 182/200\n",
            "101/101 [==============================] - 0s 2ms/step - loss: 0.0926 - accuracy: 0.9647\n",
            "Epoch 183/200\n",
            "101/101 [==============================] - 0s 2ms/step - loss: 0.1026 - accuracy: 0.9566\n",
            "Epoch 184/200\n",
            "101/101 [==============================] - 0s 2ms/step - loss: 0.0653 - accuracy: 0.9783\n",
            "Epoch 185/200\n",
            "101/101 [==============================] - 0s 2ms/step - loss: 0.0629 - accuracy: 0.9771\n",
            "Epoch 186/200\n",
            "101/101 [==============================] - 0s 2ms/step - loss: 0.0827 - accuracy: 0.9671\n",
            "Epoch 187/200\n",
            "101/101 [==============================] - 0s 2ms/step - loss: 0.0727 - accuracy: 0.9727\n",
            "Epoch 188/200\n",
            "101/101 [==============================] - 0s 2ms/step - loss: 0.0741 - accuracy: 0.9727\n",
            "Epoch 189/200\n",
            "101/101 [==============================] - 0s 2ms/step - loss: 0.1256 - accuracy: 0.9467\n",
            "Epoch 190/200\n",
            "101/101 [==============================] - 0s 2ms/step - loss: 0.1269 - accuracy: 0.9504\n",
            "Epoch 191/200\n",
            "101/101 [==============================] - 0s 2ms/step - loss: 0.1070 - accuracy: 0.9547\n",
            "Epoch 192/200\n",
            "101/101 [==============================] - 0s 2ms/step - loss: 0.0764 - accuracy: 0.9727\n",
            "Epoch 193/200\n",
            "101/101 [==============================] - 0s 2ms/step - loss: 0.0772 - accuracy: 0.9696\n",
            "Epoch 194/200\n",
            "101/101 [==============================] - 0s 2ms/step - loss: 0.0920 - accuracy: 0.9671\n",
            "Epoch 195/200\n",
            "101/101 [==============================] - 0s 2ms/step - loss: 0.0627 - accuracy: 0.9789\n",
            "Epoch 196/200\n",
            "101/101 [==============================] - 0s 2ms/step - loss: 0.1249 - accuracy: 0.9523\n",
            "Epoch 197/200\n",
            "101/101 [==============================] - 0s 2ms/step - loss: 0.1377 - accuracy: 0.9461\n",
            "Epoch 198/200\n",
            "101/101 [==============================] - 0s 2ms/step - loss: 0.1305 - accuracy: 0.9516\n",
            "Epoch 199/200\n",
            "101/101 [==============================] - 0s 2ms/step - loss: 0.1003 - accuracy: 0.9659\n",
            "Epoch 200/200\n",
            "101/101 [==============================] - 0s 2ms/step - loss: 0.0543 - accuracy: 0.9783\n"
          ]
        },
        {
          "data": {
            "text/plain": [
              "<keras.callbacks.History at 0x7fbe7f345ed0>"
            ]
          },
          "execution_count": 16,
          "metadata": {},
          "output_type": "execute_result"
        }
      ],
      "source": [
        "# fit the model \n",
        "model.fit(X_train, y_train, batch_size=16, epochs=200)"
      ]
    },
    {
      "cell_type": "code",
      "execution_count": null,
      "metadata": {
        "colab": {
          "base_uri": "https://localhost:8080/"
        },
        "id": "OUVbx9W8xE1q",
        "outputId": "979a7d80-41df-45fd-d8f6-78a0181047c8"
      },
      "outputs": [
        {
          "data": {
            "text/plain": [
              "XGBClassifier(base_score=0.5, booster='gbtree', colsample_bylevel=1,\n",
              "              colsample_bynode=1, colsample_bytree=1, gamma=0,\n",
              "              learning_rate=0.1, max_delta_step=0, max_depth=3,\n",
              "              min_child_weight=1, missing=None, n_estimators=100, n_jobs=1,\n",
              "              nthread=None, objective='binary:logistic', random_state=0,\n",
              "              reg_alpha=0, reg_lambda=1, scale_pos_weight=1, seed=None,\n",
              "              silent=None, subsample=1, verbosity=1)"
            ]
          },
          "execution_count": 17,
          "metadata": {},
          "output_type": "execute_result"
        }
      ],
      "source": [
        "# Since we just ran a Neural Network Model, let's try a XGBClassifier\n",
        "# and see what we get\n",
        "xgb_model = xgb.XGBClassifier()\n",
        "xgb_model.fit(X_train, y_train)"
      ]
    },
    {
      "cell_type": "code",
      "execution_count": null,
      "metadata": {
        "colab": {
          "base_uri": "https://localhost:8080/"
        },
        "id": "JBCF8UrmVJ3o",
        "outputId": "23564747-4069-4ba4-f74a-4896061c221e"
      },
      "outputs": [
        {
          "name": "stdout",
          "output_type": "stream",
          "text": [
            "Training score: 0.8574085554866708\n",
            "Validation score: 0.7376237623762376\n"
          ]
        }
      ],
      "source": [
        "# Let's look at some scores\n",
        "train_score = xgb_model.score(X_train, y_train)\n",
        "val_score = xgb_model.score(X_val, y_val)\n",
        "print(f\"Training score: {train_score}\")\n",
        "print(f\"Validation score: {val_score}\")"
      ]
    },
    {
      "cell_type": "code",
      "execution_count": null,
      "metadata": {
        "id": "KXCR7_b0SVGZ"
      },
      "outputs": [],
      "source": [
        "# Predicting the target using our model\n",
        "y_pred = xgb_model.predict(X_val)"
      ]
    },
    {
      "cell_type": "code",
      "execution_count": null,
      "metadata": {
        "colab": {
          "base_uri": "https://localhost:8080/"
        },
        "id": "QBKiOvfmE1Aw",
        "outputId": "61e93893-4a4f-4916-bf3c-92f761b84aa4"
      },
      "outputs": [
        {
          "data": {
            "text/plain": [
              "0.7376237623762376"
            ]
          },
          "execution_count": 20,
          "metadata": {},
          "output_type": "execute_result"
        }
      ],
      "source": [
        "# This is a check to see how well the model deals with new data\n",
        "y_pred = np.round(y_pred, 0)\n",
        "accuracy = accuracy_score(y_val, y_pred)\n",
        "accuracy"
      ]
    },
    {
      "cell_type": "code",
      "execution_count": null,
      "metadata": {
        "id": "lHi55KbICsR4"
      },
      "outputs": [],
      "source": [
        "# NearestNeighbors is the model that is going to give us a list of the most \n",
        "# similar songs to the searched song\n",
        "nn = NearestNeighbors(n_neighbors=6)\n",
        "nn.fit(X_train)\n",
        "\n",
        "# This shows us what songs are similar by index\n",
        "doc_index = 5\n",
        "doc = [X_train[doc_index]]\n",
        "\n",
        "# Query using kneighbors \n",
        "neigh_dist, neigh_index = nn.kneighbors(doc)\n"
      ]
    },
    {
      "cell_type": "code",
      "execution_count": null,
      "metadata": {
        "colab": {
          "base_uri": "https://localhost:8080/"
        },
        "id": "bWP-6M2mJEYo",
        "outputId": "0ab382a7-59a4-4c18-97f6-c090fc7b1b00"
      },
      "outputs": [
        {
          "name": "stdout",
          "output_type": "stream",
          "text": [
            "How similar are the songs? [[0.         0.3899814  0.40295771 0.42029116 0.42386568 0.43956592]]\n",
            "What song is similar? [[   5   89 1456  733  540  601]]\n"
          ]
        }
      ],
      "source": [
        "# Ignore the first 0, we care about the floats and integers\n",
        "print(f\"How similar are the songs? {neigh_dist}\")\n",
        "print(f\"What song is similar? {neigh_index}\")"
      ]
    },
    {
      "cell_type": "code",
      "execution_count": null,
      "metadata": {
        "colab": {
          "base_uri": "https://localhost:8080/"
        },
        "id": "3FD6_-SuK4H8",
        "outputId": "702429d9-398e-4562-e6d3-82b4758172ac"
      },
      "outputs": [
        {
          "name": "stdout",
          "output_type": "stream",
          "text": [
            "INFO:tensorflow:Assets written to: nn_model_v1/assets\n"
          ]
        },
        {
          "data": {
            "text/plain": [
              "<keras.engine.sequential.Sequential at 0x7fbe858c7050>"
            ]
          },
          "execution_count": 23,
          "metadata": {},
          "output_type": "execute_result"
        }
      ],
      "source": [
        "# This is tensorflows way of saving and loading a model\n",
        "model.save('nn_model_v1')\n",
        "tf.keras.models.load_model('nn_model_v1')"
      ]
    },
    {
      "cell_type": "code",
      "execution_count": null,
      "metadata": {
        "colab": {
          "base_uri": "https://localhost:8080/"
        },
        "id": "FcHGuYhIKLF-",
        "outputId": "de21dcec-c4c9-4e4e-eb73-229dc3a1375e"
      },
      "outputs": [
        {
          "data": {
            "text/plain": [
              "NearestNeighbors(algorithm='auto', leaf_size=30, metric='minkowski',\n",
              "                 metric_params=None, n_jobs=None, n_neighbors=6, p=2,\n",
              "                 radius=1.0)"
            ]
          },
          "execution_count": 24,
          "metadata": {},
          "output_type": "execute_result"
        }
      ],
      "source": [
        "# Pickling the Nearest Neighbor model\n",
        "pickle.dump(nn, open('kneighbor_model.pkl','wb'))\n",
        "pickle.load(open('kneighbor_model.pkl', 'rb'))"
      ]
    },
    {
      "cell_type": "code",
      "execution_count": 27,
      "metadata": {
        "id": "01DND7qbfN4M"
      },
      "outputs": [],
      "source": [
        "pickle.dump(scaler, open('mms.pkl', 'wb'))\n"
      ]
    },
    {
      "cell_type": "code",
      "execution_count": 28,
      "metadata": {
        "colab": {
          "base_uri": "https://localhost:8080/"
        },
        "id": "NBrv8-n29VIg",
        "outputId": "901544be-209f-4221-db6f-edd75ea1b0d0"
      },
      "outputs": [
        {
          "data": {
            "text/plain": [
              "MinMaxScaler(copy=True, feature_range=(0, 1))"
            ]
          },
          "execution_count": 28,
          "metadata": {},
          "output_type": "execute_result"
        }
      ],
      "source": [
        "\n",
        "pickle.load(open('mms.pkl', 'rb'))"
      ]
    },
    {
      "cell_type": "code",
      "execution_count": null,
      "metadata": {
        "id": "G1ZaSbPqcHOA"
      },
      "outputs": [],
      "source": []
    }
  ],
  "metadata": {
    "colab": {
      "name": "Models.ipynb",
      "provenance": []
    },
    "interpreter": {
      "hash": "c324bd5819a65ff5863f7fdb1d929021300244392a8c98175c77bec0bcbabed1"
    },
    "kernelspec": {
      "display_name": "Python 3.8.8 64-bit ('see_spot_run-BXlwaR9M': pipenv)",
      "name": "python3"
    },
    "language_info": {
      "codemirror_mode": {
        "name": "ipython",
        "version": 3
      },
      "file_extension": ".py",
      "mimetype": "text/x-python",
      "name": "python",
      "nbconvert_exporter": "python",
      "pygments_lexer": "ipython3",
      "version": "3.8.8"
    }
  },
  "nbformat": 4,
  "nbformat_minor": 0
}
